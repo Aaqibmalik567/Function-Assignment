{
  "nbformat": 4,
  "nbformat_minor": 0,
  "metadata": {
    "colab": {
      "provenance": []
    },
    "kernelspec": {
      "name": "python3",
      "display_name": "Python 3"
    },
    "language_info": {
      "name": "python"
    }
  },
  "cells": [
    {
      "cell_type": "markdown",
      "source": [
        "1.What is the difference between a function and a method in Python\n",
        "\n",
        "- In Python, a **function** is a block of reusable code that performs a specific task and can be called independently using its name, like `print()` or a user-defined function. A **method**, on the other hand, is a function that is associated with an object and is called using the dot (`.`) notation. Methods operate on the data within the object they belong to. For example, `len(\"hello\")` is a function, while `\"hello\".upper()` is a method of the string object. So, the key difference is that methods are functions **bound to objects**, while regular functions are not."
      ],
      "metadata": {
        "id": "SunqKF7wUUkT"
      }
    },
    {
      "cell_type": "code",
      "source": [
        "# Function example\n",
        "def greet(name):\n",
        "    return \"Hello, \" + name\n",
        "\n",
        "print(greet(\"Alice\"))  # Calling a function\n",
        "\n",
        "# Method example\n",
        "my_string = \"hello\"\n",
        "print(my_string.upper())  # Calling a method on the string object\n"
      ],
      "metadata": {
        "id": "dMY55Zf0U-Ni"
      },
      "execution_count": null,
      "outputs": []
    },
    {
      "cell_type": "markdown",
      "source": [
        "2. . Explain the concept of function arguments and parameters in Python\n",
        "\n",
        "- In Python, parameters are the variables listed in a function’s definition, while arguments are the actual values you pass to the function when calling it. Parameters act as placeholders, and arguments provide the real data the function will use.\n",
        "\n",
        "Here, name is the parameter used in the function definition, and \"Alice\" is the argument passed when calling the function. This allows the function to work with different values each time it is called."
      ],
      "metadata": {
        "id": "OAWPMxc3U_ZJ"
      }
    },
    {
      "cell_type": "code",
      "execution_count": null,
      "metadata": {
        "id": "qJVsgAftrPyk"
      },
      "outputs": [],
      "source": [
        "def greet(name):  # 'name' is a parameter\n",
        "    print(\"Hello, \" + name)\n",
        "\n",
        "greet(\"Alice\")  # \"Alice\" is an argument\n"
      ]
    },
    {
      "cell_type": "markdown",
      "source": [
        "3. What are the different ways to define and call a function in Python\n",
        "\n",
        "- In Python, you can define functions using the `def` keyword and call them by their name followed by parentheses. Functions can have regular parameters, default values, or use `*args` for multiple positional arguments and `**kwargs` for multiple keyword arguments. You can also call functions with keyword arguments to change the order of inputs. These different methods make functions flexible for handling various kinds of input efficiently."
      ],
      "metadata": {
        "id": "yzqWoVMKVabJ"
      }
    },
    {
      "cell_type": "markdown",
      "source": [
        "4. What is the purpose of the `return` statement in a Python function\n",
        "\n",
        "- The `return` statement in a Python function is used to send a result back to the place where the function was called. It ends the function’s execution and provides a value that can be stored or used elsewhere in the program. Without a `return` statement, the function returns `None` by default. It’s essential when you want the function to output a result instead of just performing an action."
      ],
      "metadata": {
        "id": "EyDmfqZaXR9h"
      }
    },
    {
      "cell_type": "code",
      "source": [
        "def add(a, b):\n",
        "    return a + b\n",
        "\n",
        "result = add(3, 5)\n",
        "print(result)  # Output: 8\n"
      ],
      "metadata": {
        "id": "mPPu5wfCXsBZ"
      },
      "execution_count": null,
      "outputs": []
    },
    {
      "cell_type": "markdown",
      "source": [
        "5.  What are iterators in Python and how do they differ from iterables?\n",
        "\n",
        "- In Python, an **iterable** is any object that can be looped over (like lists, strings, or tuples), while an **iterator** is an object that produces values from an iterable, one at a time, using the `next()` function. Iterables can be turned into iterators using the `iter()` function. The key difference is that **iterators remember their position** and can only be used once, while **iterables can be reused** to create new iterators. Iterators are used to perform lazy evaluation, meaning they generate items only when needed."
      ],
      "metadata": {
        "id": "6YWQZw-uXtwK"
      }
    },
    {
      "cell_type": "code",
      "source": [
        "# Iterable\n",
        "my_list = [1, 2, 3]  # This is an iterable\n",
        "\n",
        "# Convert iterable to iterator\n",
        "my_iterator = iter(my_list)  # Now it's an iterator\n",
        "\n",
        "# Access elements one by one\n",
        "print(next(my_iterator))  # Output: 1\n",
        "print(next(my_iterator))  # Output: 2\n",
        "print(next(my_iterator))  # Output: 3\n",
        "#In this example, my_list is an iterable because you can loop over it. When you use iter(my_list), it becomes an iterator that can be traversed using next(), one item at a time. Once an iterator is exhausted, it cannot be reused unless you create a new one.\n"
      ],
      "metadata": {
        "id": "PTc5VTYLYCJA"
      },
      "execution_count": null,
      "outputs": []
    },
    {
      "cell_type": "markdown",
      "source": [
        "6.  Explain the concept of generators in Python and how they are defined.\n",
        "\n",
        "-  Generators in Python are a special type of iterator that generate values on the fly using the yield keyword instead of return. They are defined like regular functions but use yield to produce a series of values one at a time, pausing after each yield and resuming from there on the next call. This makes them memory-efficient, especially when working with large datasets, since they don’t store all values in memory."
      ],
      "metadata": {
        "id": "ot6lyRr7YKRJ"
      }
    },
    {
      "cell_type": "code",
      "source": [
        "def count_up_to(n):\n",
        "    count = 1\n",
        "    while count <= n:\n",
        "        yield count\n",
        "        count += 1\n",
        "\n",
        "for num in count_up_to(3):\n",
        "    print(num)\n"
      ],
      "metadata": {
        "id": "Lrm59lwAYfqI"
      },
      "execution_count": null,
      "outputs": []
    },
    {
      "cell_type": "markdown",
      "source": [
        "7.  What are the advantages of using generators over regular functions?\n",
        "\n",
        "- Generators offer several advantages over regular functions, especially when working with large data sets or streams of data. Unlike regular functions that return all results at once and store them in memory, generators **yield one value at a time**, which makes them **memory-efficient**. They also allow for **lazy evaluation**, meaning values are generated only when needed, which can improve performance. Additionally, generators can make code **simpler and cleaner**, especially when handling loops or sequences where you don’t need all items at once."
      ],
      "metadata": {
        "id": "u5Mssv2CYhhp"
      }
    },
    {
      "cell_type": "markdown",
      "source": [
        "8.  What is a lambda function in Python and when is it typically used?\n",
        "\n",
        "- A lambda function in Python is a small, anonymous function defined using the lambda keyword. It can take any number of arguments but only has a single expression, which is evaluated and returned. Lambda functions are often used for short, throwaway functions where defining a full function with def would be overkill.\n",
        "\n",
        "When is it used?\n",
        "Lambda functions are typically used in situations where a simple function is needed temporarily, such as in:\n",
        "\n",
        "Sorting or filtering data (e.g., sorted() or filter()).\n",
        "\n",
        "Callbacks or map operations in data processing.\n",
        "\n",
        "They are useful for concisely defining small functions that are only needed in one place."
      ],
      "metadata": {
        "id": "J3VXGAIVYuyw"
      }
    },
    {
      "cell_type": "code",
      "source": [
        "# A simple lambda function to add two numbers\n",
        "add = lambda x, y: x + y\n",
        "print(add(3, 5))  # Output: 8\n"
      ],
      "metadata": {
        "id": "3ONOBg52Y9Er"
      },
      "execution_count": null,
      "outputs": []
    },
    {
      "cell_type": "markdown",
      "source": [
        "9.  Explain the purpose and usage of the `map()` function in Python.\n",
        "\n",
        "- he map() function in Python is used to apply a given function to each item in an iterable (like a list or tuple) and return an iterator that yields the results. It allows you to perform operations on all items in a collection without writing a loop.\n",
        "\n",
        "Purpose and Usage:\n",
        "Transformation: map() is used to transform the elements of an iterable using a function.\n",
        "\n",
        "Efficiency: It can be more efficient than using a loop for applying a function across large datasets, as it returns an iterator and doesn't require storing intermediate results in memory."
      ],
      "metadata": {
        "id": "fVCUTz5zY_rQ"
      }
    },
    {
      "cell_type": "code",
      "source": [
        "numbers = [1, 2, 3, 4]\n",
        "squared_numbers = map(lambda x: x**2, numbers)\n",
        "\n",
        "# Convert the map object to a list and print it\n",
        "print(list(squared_numbers))  # Output: [1, 4, 9, 16]\n"
      ],
      "metadata": {
        "id": "qtWvYcTDZOkj"
      },
      "execution_count": null,
      "outputs": []
    },
    {
      "cell_type": "markdown",
      "source": [
        "10. . What is the difference between `map()`, `reduce()`, and `filter()` functions in Python?\n",
        "\n",
        "- The map(), reduce(), and filter() functions in Python are all used for processing iterables, but they have different purposes and behaviors:\n",
        "\n",
        "map():\n",
        "\n",
        "Purpose: Applies a function to every item in an iterable and returns a new iterator with the results.\n",
        "\n",
        "Usage: It's used when you want to transform each item of the iterable based on the function."
      ],
      "metadata": {
        "id": "rAvm07W1ZPUJ"
      }
    },
    {
      "cell_type": "code",
      "source": [
        "numbers = [1, 2, 3]\n",
        "result = map(lambda x: x * 2, numbers)\n",
        "print(list(result))  # Output: [2, 4, 6]\n"
      ],
      "metadata": {
        "id": "-kT7BKT0ZhLJ"
      },
      "execution_count": null,
      "outputs": []
    },
    {
      "cell_type": "markdown",
      "source": [
        "reduce():\n",
        "\n",
        "Purpose: Applies a function of two arguments cumulatively to the items in an iterable, reducing the iterable to a single value.\n",
        "\n",
        "Usage: It's used when you want to accumulate a result based on the iterable's items (e.g., sum, product)."
      ],
      "metadata": {
        "id": "8WyKAqUzZjyY"
      }
    },
    {
      "cell_type": "code",
      "source": [
        "from functools import reduce\n",
        "numbers = [1, 2, 3]\n",
        "result = reduce(lambda x, y: x + y, numbers)\n",
        "print(result)  # Output: 6\n"
      ],
      "metadata": {
        "id": "nP2IGryWZnNR"
      },
      "execution_count": null,
      "outputs": []
    },
    {
      "cell_type": "markdown",
      "source": [
        "filter():\n",
        "\n",
        "Purpose: Filters elements from an iterable based on a condition (returns items for which the function returns True).\n",
        "\n",
        "Usage: It's used when you want to filter elements from the iterable based on a predicate function."
      ],
      "metadata": {
        "id": "lfkZnL1iZpKZ"
      }
    },
    {
      "cell_type": "code",
      "source": [
        "numbers = [1, 2, 3, 4]\n",
        "result = filter(lambda x: x % 2 == 0, numbers)\n",
        "print(list(result))  # Output: [2, 4]\n"
      ],
      "metadata": {
        "id": "LL6dp0M_ZtmY"
      },
      "execution_count": null,
      "outputs": []
    },
    {
      "cell_type": "markdown",
      "source": [
        "#Practical question"
      ],
      "metadata": {
        "id": "BX8rtUS4ZveI"
      }
    },
    {
      "cell_type": "markdown",
      "source": [
        "1. . Write a Python function that takes a list of numbers as input and returns the sum of all even numbers in the list."
      ],
      "metadata": {
        "id": "6BY97Z8JaAII"
      }
    },
    {
      "cell_type": "code",
      "source": [
        "def sum_of_evens(numbers):\n",
        "    return sum(filter(lambda x: x % 2 == 0, numbers))\n",
        "\n",
        "# Example usage\n",
        "numbers = [1, 2, 3, 4, 5, 6]\n",
        "result = sum_of_evens(numbers)\n",
        "print(result)  # Output: 12 (2 + 4 + 6)\n"
      ],
      "metadata": {
        "id": "PhzYsHpDaHLP"
      },
      "execution_count": null,
      "outputs": []
    },
    {
      "cell_type": "markdown",
      "source": [
        "2.  Create a Python function that accepts a string and returns the reverse of that string."
      ],
      "metadata": {
        "id": "ORRk6sO_aH-x"
      }
    },
    {
      "cell_type": "code",
      "source": [
        "def reverse_string(s):\n",
        "    return s[::-1]\n",
        "\n",
        "# Example usage\n",
        "input_string = \"hello\"\n",
        "reversed_string = reverse_string(input_string)\n",
        "print(reversed_string)  # Output: \"olleh\"\n"
      ],
      "metadata": {
        "id": "gcleYdqdaOh4"
      },
      "execution_count": null,
      "outputs": []
    },
    {
      "cell_type": "markdown",
      "source": [
        "3.  Implement a Python function that takes a list of integers and returns a new list containing the squares of each number."
      ],
      "metadata": {
        "id": "4eaKXAuTaS6I"
      }
    },
    {
      "cell_type": "code",
      "source": [
        "def square_numbers(numbers):\n",
        "    return [x ** 2 for x in numbers]\n",
        "\n",
        "# Example usage\n",
        "numbers = [1, 2, 3, 4, 5]\n",
        "squared_numbers = square_numbers(numbers)\n",
        "print(squared_numbers)  # Output: [1, 4, 9, 16, 25]\n"
      ],
      "metadata": {
        "id": "XbVPuhe6aXuf"
      },
      "execution_count": null,
      "outputs": []
    },
    {
      "cell_type": "markdown",
      "source": [
        "4.  Write a Python function that checks if a given number is prime or not from 1 to 200."
      ],
      "metadata": {
        "id": "N4Aac17FaYiQ"
      }
    },
    {
      "cell_type": "code",
      "source": [
        "def is_prime(n):\n",
        "    if n <= 1:\n",
        "        return False\n",
        "    for i in range(2, int(n ** 0.5) + 1):\n",
        "        if n % i == 0:\n",
        "            return False\n",
        "    return True\n",
        "\n",
        "# Check prime numbers from 1 to 200\n",
        "prime_numbers = [num for num in range(1, 201) if is_prime(num)]\n",
        "print(prime_numbers)\n"
      ],
      "metadata": {
        "id": "jmj6KPaNahjH"
      },
      "execution_count": null,
      "outputs": []
    },
    {
      "cell_type": "markdown",
      "source": [
        "5.. Create an iterator class in Python that generates the Fibonacci sequence up to a specified number of terms."
      ],
      "metadata": {
        "id": "iHDG3uiYali4"
      }
    },
    {
      "cell_type": "code",
      "source": [
        "class FibonacciIterator:\n",
        "    def __init__(self, n):\n",
        "        self.n = n  # Number of terms to generate\n",
        "        self.a, self.b = 0, 1  # Initial values of the Fibonacci sequence\n",
        "        self.count = 0  # Counter to track how many terms have been generated\n",
        "\n",
        "    def __iter__(self):\n",
        "        return self  # Return the iterator object itself\n",
        "\n",
        "    def __next__(self):\n",
        "        if self.count < self.n:\n",
        "            result = self.a\n",
        "            self.a,\n"
      ],
      "metadata": {
        "id": "VjcN80MmapR5"
      },
      "execution_count": null,
      "outputs": []
    },
    {
      "cell_type": "markdown",
      "source": [
        "6. Write a generator function in Python that yields the powers of 2 up to a given exponent."
      ],
      "metadata": {
        "id": "qC4xooHXas_I"
      }
    },
    {
      "cell_type": "code",
      "source": [
        "def powers_of_2(exponent):\n",
        "    for i in range(exponent + 1):\n",
        "        yield 2 ** i\n",
        "\n",
        "# Example usage\n",
        "for power in powers_of_2(5):\n",
        "    print(power)\n"
      ],
      "metadata": {
        "id": "vZ6VqmMUa45_"
      },
      "execution_count": null,
      "outputs": []
    },
    {
      "cell_type": "markdown",
      "source": [
        "7.. Implement a generator function that reads a file line by line and yields each line as a string."
      ],
      "metadata": {
        "id": "2XbswVFrbDJQ"
      }
    },
    {
      "cell_type": "code",
      "source": [
        "def read_file_lines(file_path):\n",
        "    with open(file_path, 'r') as file:\n",
        "        for line in file:\n",
        "            yield line.strip()  # Strip newline characters from the line\n",
        "\n",
        "# Example usage\n",
        "file_path = 'example.txt'  # Replace with your file path\n",
        "for line in read_file_lines(file_path):\n",
        "    print(line)\n"
      ],
      "metadata": {
        "id": "lSGAJiLVbG9K"
      },
      "execution_count": null,
      "outputs": []
    },
    {
      "cell_type": "markdown",
      "source": [
        "8.  Use a lambda function in Python to sort a list of tuples based on the second element of each tuple."
      ],
      "metadata": {
        "id": "sUdFG1WVbMH_"
      }
    },
    {
      "cell_type": "code",
      "source": [
        "# List of tuples\n",
        "tuples_list = [(1, 3), (2, 1), (3, 2)]\n",
        "\n",
        "# Sort using a lambda function based on the second element of each tuple\n",
        "sorted_list = sorted(tuples_list, key=lambda x: x[1])\n",
        "\n",
        "# Print the sorted list\n",
        "print(sorted_list)\n",
        "\n"
      ],
      "metadata": {
        "id": "Dl9tmW_TbTWg"
      },
      "execution_count": null,
      "outputs": []
    },
    {
      "cell_type": "markdown",
      "source": [
        "9. . Write a Python program that uses `map()` to convert a list of temperatures from Celsius to Fahrenheit."
      ],
      "metadata": {
        "id": "fQinWW1ibUug"
      }
    },
    {
      "cell_type": "code",
      "source": [
        "# List of temperatures in Celsius\n",
        "celsius_temperatures = [0, 20, 37, 100]\n",
        "\n",
        "# Function to convert Celsius to Fahrenheit\n",
        "def celsius_to_fahrenheit(celsius):\n",
        "    return (celsius * 9/5) + 32\n",
        "\n",
        "# Use map to apply the conversion function to each element in the list\n",
        "fahrenheit_temperatures = map(celsius_to_fahrenheit, celsius_temperatures)\n",
        "\n",
        "# Convert the map object to a list and print the result\n",
        "print(list(fahrenheit_temperatures))\n"
      ],
      "metadata": {
        "id": "BOr0nEQSbcUI"
      },
      "execution_count": null,
      "outputs": []
    },
    {
      "cell_type": "markdown",
      "source": [
        "10.  Create a Python program that uses `filter()` to remove all the vowels from a given string."
      ],
      "metadata": {
        "id": "BXaz4uTRbhcJ"
      }
    },
    {
      "cell_type": "code",
      "source": [
        "# Function to check if a character is a vowel\n",
        "def is_not_vowel(char):\n",
        "    vowels = \"aeiouAEIOU\"\n",
        "    return char not in vowels\n",
        "\n",
        "# Given string\n",
        "input_string = \"Hello World!\"\n",
        "\n",
        "# Use filter to remove vowels\n",
        "filtered_string = ''.join(filter(is_not_vowel, input_string))\n",
        "\n",
        "# Print the result\n",
        "print(filtered_string)\n"
      ],
      "metadata": {
        "id": "4O_SDSHbbk9Q"
      },
      "execution_count": null,
      "outputs": []
    }
  ]
}